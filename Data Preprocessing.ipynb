{
 "cells": [
  {
   "cell_type": "code",
   "execution_count": 1,
   "id": "c95e9c5a",
   "metadata": {},
   "outputs": [],
   "source": [
    "import pandas as pd\n",
    "import warnings\n",
    "warnings.filterwarnings(\"ignore\")"
   ]
  },
  {
   "cell_type": "code",
   "execution_count": 2,
   "id": "966a558c",
   "metadata": {},
   "outputs": [],
   "source": [
    "df_train = pd.read_csv('application_train.csv')\n",
    "df_test = pd.read_csv('application_test.csv')"
   ]
  },
  {
   "cell_type": "code",
   "execution_count": 3,
   "id": "4d41036c",
   "metadata": {},
   "outputs": [],
   "source": [
    "def null_percentage(data):\n",
    "    null_values_total = data.isnull().sum().sort_values(ascending = False)\n",
    "    total_null_percent = (data.isnull().sum()/data.isnull().count() * 100).sort_values(ascending = False)\n",
    "    return pd.concat([null_values_total, total_null_percent], axis = 1, keys = ['Total', 'Percent'])"
   ]
  },
  {
   "cell_type": "code",
   "execution_count": 4,
   "id": "b51839c5",
   "metadata": {},
   "outputs": [
    {
     "name": "stdout",
     "output_type": "stream",
     "text": [
      "The shape of the training dataset is: (307511, 122)\n",
      "The shape of the testing dataset is: (48744, 121)\n"
     ]
    }
   ],
   "source": [
    "print(\"The shape of the training dataset is: {}\".format(df_train.shape))\n",
    "print(\"The shape of the testing dataset is: {}\".format(df_test.shape))"
   ]
  },
  {
   "cell_type": "code",
   "execution_count": 6,
   "id": "79d03764",
   "metadata": {},
   "outputs": [],
   "source": [
    "# Dropping columns that contain more than 50 percent null values per feature\n",
    "for column in df_train.columns:\n",
    "    if null_percentage(df_train[column].to_frame())['Percent'][0] > 50.00:\n",
    "        df_train.drop([column], axis = 1, inplace = True)\n",
    "        df_test.drop([column], axis = 1, inplace = True)"
   ]
  },
  {
   "cell_type": "code",
   "execution_count": 45,
   "id": "2df643e8",
   "metadata": {},
   "outputs": [],
   "source": [
    "def mean_imputation(data):\n",
    "    \"\"\"\n",
    "    This function would take the NULL values present in data and replace them with average values of the data respectively.\n",
    "    \"\"\"\n",
    "    imputed_data = data.fillna(data.mean()).copy()\n",
    "    return imputed_data\n",
    "\n",
    "def median_imputation(data):\n",
    "    \"\"\"\n",
    "    This function would take the NULL values present in data and replace them with median values in our data respectively.\n",
    "    \"\"\"\n",
    "    imputed_data = data.fillna(data.median()).copy()\n",
    "    return imputed_data\n",
    "\n",
    "def mode_imputation(data):\n",
    "    \"\"\"\n",
    "    This function would take the NULL values present in data and replace them with mode values of the given data respectively.\n",
    "    \"\"\"\n",
    "    imputed_data = data.fillna(data.mode(), inplace = inplace).copy()\n",
    "    return imputed_data"
   ]
  },
  {
   "cell_type": "code",
   "execution_count": 47,
   "id": "59de0d24",
   "metadata": {},
   "outputs": [
    {
     "data": {
      "text/plain": [
       "0         0.972200\n",
       "1         0.985100\n",
       "2         0.977065\n",
       "3         0.977065\n",
       "4         0.977065\n",
       "            ...   \n",
       "307506    0.978200\n",
       "307507    0.972700\n",
       "307508    0.981600\n",
       "307509    0.977200\n",
       "307510    0.988100\n",
       "Name: YEARS_BEGINEXPLUATATION_MODE, Length: 307511, dtype: float64"
      ]
     },
     "execution_count": 47,
     "metadata": {},
     "output_type": "execute_result"
    }
   ],
   "source": [
    "mean_imputation(df_train['FLOORSMAX_AVG'])\n",
    "mean_imputation(df_train['FLOORSMAX_MEDI'])\n",
    "mean_imputation(df_train['FLOORSMAX_MODE'])\n",
    "mean_imputation(df_train['YEARS_BEGINEXPLUATATION_AVG'])\n",
    "mean_imputation(df_train['YEARS_BEGINEXPLUATATION_MEDI'])\n",
    "mean_imputation(df_train['YEARS_BEGINEXPLUATATION_MODE'])"
   ]
  },
  {
   "cell_type": "code",
   "execution_count": 11,
   "id": "9373ff3b",
   "metadata": {},
   "outputs": [],
   "source": [
    "null_percent_values = null_percentage(df_train)['Percent']\n",
    "features_with_low_null_values = []\n",
    "for i in range(len(df_train.columns)):\n",
    "    if null_percent_values.iloc[i] < 10.0:\n",
    "        features_with_low_null_values.append(null_percent_values.index[i]) "
   ]
  },
  {
   "cell_type": "code",
   "execution_count": 12,
   "id": "294461ac",
   "metadata": {},
   "outputs": [],
   "source": [
    "df_train_converted = df_train[features_with_low_null_values]"
   ]
  },
  {
   "cell_type": "code",
   "execution_count": 13,
   "id": "ca4bb7ec",
   "metadata": {},
   "outputs": [],
   "source": [
    "## This is done to get the categorical features. We can then perform mode imputation to get the values respectively.\n",
    "## The suggestion was implemented from the website https://stackoverflow.com/questions/29803093/check-which-columns-in-dataframe-are-categorical\n",
    "total_columns =df_train_converted.columns \n",
    "numeric_data = df_train_converted._get_numeric_data()\n",
    "categorical_columns = list(set(total_columns) - set(numeric_data.columns))"
   ]
  },
  {
   "cell_type": "code",
   "execution_count": 14,
   "id": "baab4af8",
   "metadata": {},
   "outputs": [],
   "source": [
    "categorical_data = df_train_converted[categorical_columns]"
   ]
  },
  {
   "cell_type": "code",
   "execution_count": 15,
   "id": "0a295af2",
   "metadata": {},
   "outputs": [],
   "source": [
    "mode_imputation(categorical_data, inplace = True)"
   ]
  },
  {
   "cell_type": "code",
   "execution_count": 16,
   "id": "2896babe",
   "metadata": {},
   "outputs": [],
   "source": [
    "categorical_data['NAME_TYPE_SUITE'].fillna(value = 'Unaccompanied', inplace = True)"
   ]
  },
  {
   "cell_type": "code",
   "execution_count": 17,
   "id": "ca412889",
   "metadata": {},
   "outputs": [
    {
     "data": {
      "text/html": [
       "<div>\n",
       "<style scoped>\n",
       "    .dataframe tbody tr th:only-of-type {\n",
       "        vertical-align: middle;\n",
       "    }\n",
       "\n",
       "    .dataframe tbody tr th {\n",
       "        vertical-align: top;\n",
       "    }\n",
       "\n",
       "    .dataframe thead th {\n",
       "        text-align: right;\n",
       "    }\n",
       "</style>\n",
       "<table border=\"1\" class=\"dataframe\">\n",
       "  <thead>\n",
       "    <tr style=\"text-align: right;\">\n",
       "      <th></th>\n",
       "      <th>DEF_60_CNT_SOCIAL_CIRCLE</th>\n",
       "      <th>OBS_60_CNT_SOCIAL_CIRCLE</th>\n",
       "      <th>DEF_30_CNT_SOCIAL_CIRCLE</th>\n",
       "      <th>OBS_30_CNT_SOCIAL_CIRCLE</th>\n",
       "      <th>EXT_SOURCE_2</th>\n",
       "      <th>AMT_GOODS_PRICE</th>\n",
       "      <th>AMT_ANNUITY</th>\n",
       "      <th>CNT_FAM_MEMBERS</th>\n",
       "      <th>DAYS_LAST_PHONE_CHANGE</th>\n",
       "      <th>FLAG_DOCUMENT_6</th>\n",
       "      <th>...</th>\n",
       "      <th>REG_CITY_NOT_LIVE_CITY</th>\n",
       "      <th>REG_CITY_NOT_WORK_CITY</th>\n",
       "      <th>LIVE_CITY_NOT_WORK_CITY</th>\n",
       "      <th>TARGET</th>\n",
       "      <th>YEARS_BEGINEXPLUATATION_AVG</th>\n",
       "      <th>FLOORSMAX_AVG</th>\n",
       "      <th>YEARS_BEGINEXPLUATATION_MODE</th>\n",
       "      <th>FLOORSMAX_MODE</th>\n",
       "      <th>YEARS_BEGINEXPLUATATION_MEDI</th>\n",
       "      <th>SK_ID_CURR</th>\n",
       "    </tr>\n",
       "  </thead>\n",
       "  <tbody>\n",
       "    <tr>\n",
       "      <th>0</th>\n",
       "      <td>2.0</td>\n",
       "      <td>2.0</td>\n",
       "      <td>2.0</td>\n",
       "      <td>2.0</td>\n",
       "      <td>0.262949</td>\n",
       "      <td>351000.0</td>\n",
       "      <td>24700.5</td>\n",
       "      <td>1.0</td>\n",
       "      <td>-1134.0</td>\n",
       "      <td>0</td>\n",
       "      <td>...</td>\n",
       "      <td>0</td>\n",
       "      <td>0</td>\n",
       "      <td>0</td>\n",
       "      <td>1</td>\n",
       "      <td>0.972200</td>\n",
       "      <td>0.083300</td>\n",
       "      <td>0.972200</td>\n",
       "      <td>0.083300</td>\n",
       "      <td>0.972200</td>\n",
       "      <td>100002</td>\n",
       "    </tr>\n",
       "    <tr>\n",
       "      <th>1</th>\n",
       "      <td>0.0</td>\n",
       "      <td>1.0</td>\n",
       "      <td>0.0</td>\n",
       "      <td>1.0</td>\n",
       "      <td>0.622246</td>\n",
       "      <td>1129500.0</td>\n",
       "      <td>35698.5</td>\n",
       "      <td>2.0</td>\n",
       "      <td>-828.0</td>\n",
       "      <td>0</td>\n",
       "      <td>...</td>\n",
       "      <td>0</td>\n",
       "      <td>0</td>\n",
       "      <td>0</td>\n",
       "      <td>0</td>\n",
       "      <td>0.985100</td>\n",
       "      <td>0.291700</td>\n",
       "      <td>0.985100</td>\n",
       "      <td>0.291700</td>\n",
       "      <td>0.985100</td>\n",
       "      <td>100003</td>\n",
       "    </tr>\n",
       "    <tr>\n",
       "      <th>2</th>\n",
       "      <td>0.0</td>\n",
       "      <td>0.0</td>\n",
       "      <td>0.0</td>\n",
       "      <td>0.0</td>\n",
       "      <td>0.555912</td>\n",
       "      <td>135000.0</td>\n",
       "      <td>6750.0</td>\n",
       "      <td>1.0</td>\n",
       "      <td>-815.0</td>\n",
       "      <td>0</td>\n",
       "      <td>...</td>\n",
       "      <td>0</td>\n",
       "      <td>0</td>\n",
       "      <td>0</td>\n",
       "      <td>0</td>\n",
       "      <td>0.977735</td>\n",
       "      <td>0.226282</td>\n",
       "      <td>0.977065</td>\n",
       "      <td>0.222315</td>\n",
       "      <td>0.977752</td>\n",
       "      <td>100004</td>\n",
       "    </tr>\n",
       "    <tr>\n",
       "      <th>3</th>\n",
       "      <td>0.0</td>\n",
       "      <td>2.0</td>\n",
       "      <td>0.0</td>\n",
       "      <td>2.0</td>\n",
       "      <td>0.650442</td>\n",
       "      <td>297000.0</td>\n",
       "      <td>29686.5</td>\n",
       "      <td>2.0</td>\n",
       "      <td>-617.0</td>\n",
       "      <td>0</td>\n",
       "      <td>...</td>\n",
       "      <td>0</td>\n",
       "      <td>0</td>\n",
       "      <td>0</td>\n",
       "      <td>0</td>\n",
       "      <td>0.977735</td>\n",
       "      <td>0.226282</td>\n",
       "      <td>0.977065</td>\n",
       "      <td>0.222315</td>\n",
       "      <td>0.977752</td>\n",
       "      <td>100006</td>\n",
       "    </tr>\n",
       "    <tr>\n",
       "      <th>4</th>\n",
       "      <td>0.0</td>\n",
       "      <td>0.0</td>\n",
       "      <td>0.0</td>\n",
       "      <td>0.0</td>\n",
       "      <td>0.322738</td>\n",
       "      <td>513000.0</td>\n",
       "      <td>21865.5</td>\n",
       "      <td>1.0</td>\n",
       "      <td>-1106.0</td>\n",
       "      <td>0</td>\n",
       "      <td>...</td>\n",
       "      <td>0</td>\n",
       "      <td>1</td>\n",
       "      <td>1</td>\n",
       "      <td>0</td>\n",
       "      <td>0.977735</td>\n",
       "      <td>0.226282</td>\n",
       "      <td>0.977065</td>\n",
       "      <td>0.222315</td>\n",
       "      <td>0.977752</td>\n",
       "      <td>100007</td>\n",
       "    </tr>\n",
       "  </tbody>\n",
       "</table>\n",
       "<p>5 rows × 60 columns</p>\n",
       "</div>"
      ],
      "text/plain": [
       "   DEF_60_CNT_SOCIAL_CIRCLE  OBS_60_CNT_SOCIAL_CIRCLE  \\\n",
       "0                       2.0                       2.0   \n",
       "1                       0.0                       1.0   \n",
       "2                       0.0                       0.0   \n",
       "3                       0.0                       2.0   \n",
       "4                       0.0                       0.0   \n",
       "\n",
       "   DEF_30_CNT_SOCIAL_CIRCLE  OBS_30_CNT_SOCIAL_CIRCLE  EXT_SOURCE_2  \\\n",
       "0                       2.0                       2.0      0.262949   \n",
       "1                       0.0                       1.0      0.622246   \n",
       "2                       0.0                       0.0      0.555912   \n",
       "3                       0.0                       2.0      0.650442   \n",
       "4                       0.0                       0.0      0.322738   \n",
       "\n",
       "   AMT_GOODS_PRICE  AMT_ANNUITY  CNT_FAM_MEMBERS  DAYS_LAST_PHONE_CHANGE  \\\n",
       "0         351000.0      24700.5              1.0                 -1134.0   \n",
       "1        1129500.0      35698.5              2.0                  -828.0   \n",
       "2         135000.0       6750.0              1.0                  -815.0   \n",
       "3         297000.0      29686.5              2.0                  -617.0   \n",
       "4         513000.0      21865.5              1.0                 -1106.0   \n",
       "\n",
       "   FLAG_DOCUMENT_6  ...  REG_CITY_NOT_LIVE_CITY  REG_CITY_NOT_WORK_CITY  \\\n",
       "0                0  ...                       0                       0   \n",
       "1                0  ...                       0                       0   \n",
       "2                0  ...                       0                       0   \n",
       "3                0  ...                       0                       0   \n",
       "4                0  ...                       0                       1   \n",
       "\n",
       "   LIVE_CITY_NOT_WORK_CITY  TARGET  YEARS_BEGINEXPLUATATION_AVG  \\\n",
       "0                        0       1                     0.972200   \n",
       "1                        0       0                     0.985100   \n",
       "2                        0       0                     0.977735   \n",
       "3                        0       0                     0.977735   \n",
       "4                        1       0                     0.977735   \n",
       "\n",
       "   FLOORSMAX_AVG  YEARS_BEGINEXPLUATATION_MODE  FLOORSMAX_MODE  \\\n",
       "0       0.083300                      0.972200        0.083300   \n",
       "1       0.291700                      0.985100        0.291700   \n",
       "2       0.226282                      0.977065        0.222315   \n",
       "3       0.226282                      0.977065        0.222315   \n",
       "4       0.226282                      0.977065        0.222315   \n",
       "\n",
       "   YEARS_BEGINEXPLUATATION_MEDI  SK_ID_CURR  \n",
       "0                      0.972200      100002  \n",
       "1                      0.985100      100003  \n",
       "2                      0.977752      100004  \n",
       "3                      0.977752      100006  \n",
       "4                      0.977752      100007  \n",
       "\n",
       "[5 rows x 60 columns]"
      ]
     },
     "execution_count": 17,
     "metadata": {},
     "output_type": "execute_result"
    }
   ],
   "source": [
    "numeric_data.head()"
   ]
  },
  {
   "cell_type": "code",
   "execution_count": 18,
   "id": "5754d52a",
   "metadata": {},
   "outputs": [
    {
     "data": {
      "text/html": [
       "<div>\n",
       "<style scoped>\n",
       "    .dataframe tbody tr th:only-of-type {\n",
       "        vertical-align: middle;\n",
       "    }\n",
       "\n",
       "    .dataframe tbody tr th {\n",
       "        vertical-align: top;\n",
       "    }\n",
       "\n",
       "    .dataframe thead th {\n",
       "        text-align: right;\n",
       "    }\n",
       "</style>\n",
       "<table border=\"1\" class=\"dataframe\">\n",
       "  <thead>\n",
       "    <tr style=\"text-align: right;\">\n",
       "      <th></th>\n",
       "      <th>FLAG_OWN_REALTY</th>\n",
       "      <th>NAME_CONTRACT_TYPE</th>\n",
       "      <th>ORGANIZATION_TYPE</th>\n",
       "      <th>NAME_TYPE_SUITE</th>\n",
       "      <th>NAME_EDUCATION_TYPE</th>\n",
       "      <th>WEEKDAY_APPR_PROCESS_START</th>\n",
       "      <th>NAME_FAMILY_STATUS</th>\n",
       "      <th>NAME_HOUSING_TYPE</th>\n",
       "      <th>CODE_GENDER</th>\n",
       "      <th>NAME_INCOME_TYPE</th>\n",
       "      <th>FLAG_OWN_CAR</th>\n",
       "    </tr>\n",
       "  </thead>\n",
       "  <tbody>\n",
       "    <tr>\n",
       "      <th>0</th>\n",
       "      <td>Y</td>\n",
       "      <td>Cash loans</td>\n",
       "      <td>Business Entity Type 3</td>\n",
       "      <td>Unaccompanied</td>\n",
       "      <td>Secondary / secondary special</td>\n",
       "      <td>WEDNESDAY</td>\n",
       "      <td>Single / not married</td>\n",
       "      <td>House / apartment</td>\n",
       "      <td>M</td>\n",
       "      <td>Working</td>\n",
       "      <td>N</td>\n",
       "    </tr>\n",
       "    <tr>\n",
       "      <th>1</th>\n",
       "      <td>N</td>\n",
       "      <td>Cash loans</td>\n",
       "      <td>School</td>\n",
       "      <td>Family</td>\n",
       "      <td>Higher education</td>\n",
       "      <td>MONDAY</td>\n",
       "      <td>Married</td>\n",
       "      <td>House / apartment</td>\n",
       "      <td>F</td>\n",
       "      <td>State servant</td>\n",
       "      <td>N</td>\n",
       "    </tr>\n",
       "    <tr>\n",
       "      <th>2</th>\n",
       "      <td>Y</td>\n",
       "      <td>Revolving loans</td>\n",
       "      <td>Government</td>\n",
       "      <td>Unaccompanied</td>\n",
       "      <td>Secondary / secondary special</td>\n",
       "      <td>MONDAY</td>\n",
       "      <td>Single / not married</td>\n",
       "      <td>House / apartment</td>\n",
       "      <td>M</td>\n",
       "      <td>Working</td>\n",
       "      <td>Y</td>\n",
       "    </tr>\n",
       "    <tr>\n",
       "      <th>3</th>\n",
       "      <td>Y</td>\n",
       "      <td>Cash loans</td>\n",
       "      <td>Business Entity Type 3</td>\n",
       "      <td>Unaccompanied</td>\n",
       "      <td>Secondary / secondary special</td>\n",
       "      <td>WEDNESDAY</td>\n",
       "      <td>Civil marriage</td>\n",
       "      <td>House / apartment</td>\n",
       "      <td>F</td>\n",
       "      <td>Working</td>\n",
       "      <td>N</td>\n",
       "    </tr>\n",
       "    <tr>\n",
       "      <th>4</th>\n",
       "      <td>Y</td>\n",
       "      <td>Cash loans</td>\n",
       "      <td>Religion</td>\n",
       "      <td>Unaccompanied</td>\n",
       "      <td>Secondary / secondary special</td>\n",
       "      <td>THURSDAY</td>\n",
       "      <td>Single / not married</td>\n",
       "      <td>House / apartment</td>\n",
       "      <td>M</td>\n",
       "      <td>Working</td>\n",
       "      <td>N</td>\n",
       "    </tr>\n",
       "  </tbody>\n",
       "</table>\n",
       "</div>"
      ],
      "text/plain": [
       "  FLAG_OWN_REALTY NAME_CONTRACT_TYPE       ORGANIZATION_TYPE NAME_TYPE_SUITE  \\\n",
       "0               Y         Cash loans  Business Entity Type 3   Unaccompanied   \n",
       "1               N         Cash loans                  School          Family   \n",
       "2               Y    Revolving loans              Government   Unaccompanied   \n",
       "3               Y         Cash loans  Business Entity Type 3   Unaccompanied   \n",
       "4               Y         Cash loans                Religion   Unaccompanied   \n",
       "\n",
       "             NAME_EDUCATION_TYPE WEEKDAY_APPR_PROCESS_START  \\\n",
       "0  Secondary / secondary special                  WEDNESDAY   \n",
       "1               Higher education                     MONDAY   \n",
       "2  Secondary / secondary special                     MONDAY   \n",
       "3  Secondary / secondary special                  WEDNESDAY   \n",
       "4  Secondary / secondary special                   THURSDAY   \n",
       "\n",
       "     NAME_FAMILY_STATUS  NAME_HOUSING_TYPE CODE_GENDER NAME_INCOME_TYPE  \\\n",
       "0  Single / not married  House / apartment           M          Working   \n",
       "1               Married  House / apartment           F    State servant   \n",
       "2  Single / not married  House / apartment           M          Working   \n",
       "3        Civil marriage  House / apartment           F          Working   \n",
       "4  Single / not married  House / apartment           M          Working   \n",
       "\n",
       "  FLAG_OWN_CAR  \n",
       "0            N  \n",
       "1            N  \n",
       "2            Y  \n",
       "3            N  \n",
       "4            N  "
      ]
     },
     "execution_count": 18,
     "metadata": {},
     "output_type": "execute_result"
    }
   ],
   "source": [
    "categorical_data.head()"
   ]
  },
  {
   "cell_type": "code",
   "execution_count": 23,
   "id": "2d5e8e24",
   "metadata": {},
   "outputs": [],
   "source": [
    "import missingno as msno\n",
    "import matplotlib.pyplot as plt"
   ]
  },
  {
   "cell_type": "code",
   "execution_count": 24,
   "id": "195ae412",
   "metadata": {},
   "outputs": [
    {
     "data": {
      "image/png": "[encoded data removed]",
      "text/plain": [
       "<Figure size 2500x1000 with 2 Axes>"
      ]
     },
     "metadata": {},
     "output_type": "display_data"
    }
   ],
   "source": [
    "msno.matrix(numeric_data)\n",
    "plt.show()"
   ]
  },
  {
   "cell_type": "code",
   "execution_count": 32,
   "id": "eb220f00",
   "metadata": {},
   "outputs": [],
   "source": [
    "has_missing = numeric_data.isnull().any()\n",
    "missing_data_columns = numeric_data.columns[has_missing]"
   ]
  },
  {
   "cell_type": "code",
   "execution_count": 33,
   "id": "39dd5202",
   "metadata": {},
   "outputs": [
    {
     "data": {
      "text/plain": [
       "Index(['DEF_60_CNT_SOCIAL_CIRCLE', 'OBS_60_CNT_SOCIAL_CIRCLE',\n",
       "       'DEF_30_CNT_SOCIAL_CIRCLE', 'OBS_30_CNT_SOCIAL_CIRCLE', 'EXT_SOURCE_2',\n",
       "       'AMT_GOODS_PRICE', 'AMT_ANNUITY', 'CNT_FAM_MEMBERS',\n",
       "       'DAYS_LAST_PHONE_CHANGE'],\n",
       "      dtype='object')"
      ]
     },
     "execution_count": 33,
     "metadata": {},
     "output_type": "execute_result"
    }
   ],
   "source": [
    "missing_data_columns"
   ]
  },
  {
   "cell_type": "code",
   "execution_count": 36,
   "id": "96064b6f",
   "metadata": {},
   "outputs": [
    {
     "data": {
      "text/html": [
       "<div>\n",
       "<style scoped>\n",
       "    .dataframe tbody tr th:only-of-type {\n",
       "        vertical-align: middle;\n",
       "    }\n",
       "\n",
       "    .dataframe tbody tr th {\n",
       "        vertical-align: top;\n",
       "    }\n",
       "\n",
       "    .dataframe thead th {\n",
       "        text-align: right;\n",
       "    }\n",
       "</style>\n",
       "<table border=\"1\" class=\"dataframe\">\n",
       "  <thead>\n",
       "    <tr style=\"text-align: right;\">\n",
       "      <th></th>\n",
       "      <th>DEF_60_CNT_SOCIAL_CIRCLE</th>\n",
       "      <th>OBS_60_CNT_SOCIAL_CIRCLE</th>\n",
       "      <th>DEF_30_CNT_SOCIAL_CIRCLE</th>\n",
       "      <th>OBS_30_CNT_SOCIAL_CIRCLE</th>\n",
       "      <th>EXT_SOURCE_2</th>\n",
       "      <th>AMT_GOODS_PRICE</th>\n",
       "      <th>AMT_ANNUITY</th>\n",
       "      <th>CNT_FAM_MEMBERS</th>\n",
       "      <th>DAYS_LAST_PHONE_CHANGE</th>\n",
       "    </tr>\n",
       "  </thead>\n",
       "  <tbody>\n",
       "    <tr>\n",
       "      <th>0</th>\n",
       "      <td>2.0</td>\n",
       "      <td>2.0</td>\n",
       "      <td>2.0</td>\n",
       "      <td>2.0</td>\n",
       "      <td>0.262949</td>\n",
       "      <td>351000.0</td>\n",
       "      <td>24700.5</td>\n",
       "      <td>1.0</td>\n",
       "      <td>-1134.0</td>\n",
       "    </tr>\n",
       "    <tr>\n",
       "      <th>1</th>\n",
       "      <td>0.0</td>\n",
       "      <td>1.0</td>\n",
       "      <td>0.0</td>\n",
       "      <td>1.0</td>\n",
       "      <td>0.622246</td>\n",
       "      <td>1129500.0</td>\n",
       "      <td>35698.5</td>\n",
       "      <td>2.0</td>\n",
       "      <td>-828.0</td>\n",
       "    </tr>\n",
       "    <tr>\n",
       "      <th>2</th>\n",
       "      <td>0.0</td>\n",
       "      <td>0.0</td>\n",
       "      <td>0.0</td>\n",
       "      <td>0.0</td>\n",
       "      <td>0.555912</td>\n",
       "      <td>135000.0</td>\n",
       "      <td>6750.0</td>\n",
       "      <td>1.0</td>\n",
       "      <td>-815.0</td>\n",
       "    </tr>\n",
       "    <tr>\n",
       "      <th>3</th>\n",
       "      <td>0.0</td>\n",
       "      <td>2.0</td>\n",
       "      <td>0.0</td>\n",
       "      <td>2.0</td>\n",
       "      <td>0.650442</td>\n",
       "      <td>297000.0</td>\n",
       "      <td>29686.5</td>\n",
       "      <td>2.0</td>\n",
       "      <td>-617.0</td>\n",
       "    </tr>\n",
       "    <tr>\n",
       "      <th>4</th>\n",
       "      <td>0.0</td>\n",
       "      <td>0.0</td>\n",
       "      <td>0.0</td>\n",
       "      <td>0.0</td>\n",
       "      <td>0.322738</td>\n",
       "      <td>513000.0</td>\n",
       "      <td>21865.5</td>\n",
       "      <td>1.0</td>\n",
       "      <td>-1106.0</td>\n",
       "    </tr>\n",
       "  </tbody>\n",
       "</table>\n",
       "</div>"
      ],
      "text/plain": [
       "   DEF_60_CNT_SOCIAL_CIRCLE  OBS_60_CNT_SOCIAL_CIRCLE  \\\n",
       "0                       2.0                       2.0   \n",
       "1                       0.0                       1.0   \n",
       "2                       0.0                       0.0   \n",
       "3                       0.0                       2.0   \n",
       "4                       0.0                       0.0   \n",
       "\n",
       "   DEF_30_CNT_SOCIAL_CIRCLE  OBS_30_CNT_SOCIAL_CIRCLE  EXT_SOURCE_2  \\\n",
       "0                       2.0                       2.0      0.262949   \n",
       "1                       0.0                       1.0      0.622246   \n",
       "2                       0.0                       0.0      0.555912   \n",
       "3                       0.0                       2.0      0.650442   \n",
       "4                       0.0                       0.0      0.322738   \n",
       "\n",
       "   AMT_GOODS_PRICE  AMT_ANNUITY  CNT_FAM_MEMBERS  DAYS_LAST_PHONE_CHANGE  \n",
       "0         351000.0      24700.5              1.0                 -1134.0  \n",
       "1        1129500.0      35698.5              2.0                  -828.0  \n",
       "2         135000.0       6750.0              1.0                  -815.0  \n",
       "3         297000.0      29686.5              2.0                  -617.0  \n",
       "4         513000.0      21865.5              1.0                 -1106.0  "
      ]
     },
     "execution_count": 36,
     "metadata": {},
     "output_type": "execute_result"
    }
   ],
   "source": [
    "# Showing data with features that have missing values\n",
    "numeric_data[missing_data_columns].head()"
   ]
  },
  {
   "cell_type": "code",
   "execution_count": 39,
   "id": "423e8c55",
   "metadata": {},
   "outputs": [],
   "source": [
    "# Imputing the missing values with the mean of the data\n",
    "mean_imputation(numeric_data[missing_data_columns], inplace = True)"
   ]
  },
  {
   "cell_type": "code",
   "execution_count": 43,
   "id": "54dc76a2",
   "metadata": {},
   "outputs": [],
   "source": [
    "numeric_data.fillna(numeric_data.mean(), inplace = True)"
   ]
  },
  {
   "cell_type": "code",
   "execution_count": 48,
   "id": "08fe1d3f",
   "metadata": {},
   "outputs": [],
   "source": [
    "has_missing = categorical_data.isnull().any()\n",
    "missing_data_columns = categorical_data.columns[has_missing]"
   ]
  },
  {
   "cell_type": "code",
   "execution_count": 55,
   "id": "740faf17",
   "metadata": {},
   "outputs": [
    {
     "name": "stdout",
     "output_type": "stream",
     "text": [
      "The shape of numeric data: (307511, 60)\n",
      "The shape of categorical data: (307511, 11)\n"
     ]
    }
   ],
   "source": [
    "print(\"The shape of numeric data: {}\".format(numeric_data.shape))\n",
    "print(\"The shape of categorical data: {}\".format(categorical_data.shape))"
   ]
  },
  {
   "cell_type": "code",
   "execution_count": 56,
   "id": "7026c301",
   "metadata": {},
   "outputs": [],
   "source": [
    "# concatenating the categorical and numerical column\n",
    "df_final = pd.concat([numeric_data, categorical_data], axis = 1)"
   ]
  },
  {
   "cell_type": "code",
   "execution_count": 57,
   "id": "3e4b6aef",
   "metadata": {},
   "outputs": [
    {
     "data": {
      "text/plain": [
       "(307511, 71)"
      ]
     },
     "execution_count": 57,
     "metadata": {},
     "output_type": "execute_result"
    }
   ],
   "source": [
    "df_final.shape"
   ]
  }
 ],
 "metadata": {
  "kernelspec": {
   "display_name": "Python 3 (ipykernel)",
   "language": "python",
   "name": "python3"
  },
  "language_info": {
   "codemirror_mode": {
    "name": "ipython",
    "version": 3
   },
   "file_extension": ".py",
   "mimetype": "text/x-python",
   "name": "python",
   "nbconvert_exporter": "python",
   "pygments_lexer": "ipython3",
   "version": "3.10.8"
  }
 },
 "nbformat": 4,
 "nbformat_minor": 5
}
