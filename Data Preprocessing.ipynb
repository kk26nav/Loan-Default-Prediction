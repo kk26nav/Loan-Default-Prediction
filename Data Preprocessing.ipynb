{
 "cells": [
  {
   "cell_type": "code",
   "execution_count": 1,
   "id": "c6f66aed",
   "metadata": {},
   "outputs": [],
   "source": [
    "import pandas as pd\n",
    "import warnings\n",
    "warnings.filterwarnings(\"ignore\")"
   ]
  },
  {
   "cell_type": "code",
   "execution_count": 2,
   "id": "0c2a48b4",
   "metadata": {},
   "outputs": [],
   "source": [
    "df_train = pd.read_csv('application_train.csv')\n",
    "df_test = pd.read_csv('application_test.csv')"
   ]
  },
  {
   "cell_type": "code",
   "execution_count": 3,
   "id": "79dec094",
   "metadata": {},
   "outputs": [],
   "source": [
    "def null_percentage(data):\n",
    "    null_values_total = data.isnull().sum().sort_values(ascending = False)\n",
    "    total_null_percent = (data.isnull().sum()/data.isnull().count() * 100).sort_values(ascending = False)\n",
    "    return pd.concat([null_values_total, total_null_percent], axis = 1, keys = ['Total', 'Percent'])"
   ]
  },
  {
   "cell_type": "code",
   "execution_count": 4,
   "id": "5a61dc66",
   "metadata": {},
   "outputs": [
    {
     "name": "stdout",
     "output_type": "stream",
     "text": [
      "The shape of the training dataset is: (307511, 122)\n",
      "The shape of the testing dataset is: (48744, 121)\n"
     ]
    }
   ],
   "source": [
    "print(\"The shape of the training dataset is: {}\".format(df_train.shape))\n",
    "print(\"The shape of the testing dataset is: {}\".format(df_test.shape))"
   ]
  },
  {
   "cell_type": "code",
   "execution_count": 6,
   "id": "649976be",
   "metadata": {},
   "outputs": [],
   "source": [
    "# Dropping columns that contain more than 50 percent null values per feature\n",
    "for column in df_train.columns:\n",
    "    if null_percentage(df_train[column].to_frame())['Percent'][0] > 50.00:\n",
    "        df_train.drop([column], axis = 1, inplace = True)\n",
    "        df_test.drop([column], axis = 1, inplace = True)"
   ]
  },
  {
   "cell_type": "code",
   "execution_count": 8,
   "id": "98c523d3",
   "metadata": {},
   "outputs": [],
   "source": [
    "def mean_imputation(data, inplace = False):\n",
    "    \"\"\"\n",
    "    This function would take the NULL values present in data and replace them with average values of the data respectively.\n",
    "    \"\"\"\n",
    "    data.fillna(data.mean(), inplace = inplace)\n",
    "\n",
    "def median_imputation(data, inplace = False):\n",
    "    \"\"\"\n",
    "    This function would take the NULL values present in data and replace them with median values in our data respectively.\n",
    "    \"\"\"\n",
    "    data.fillna(data.median(), inplace = inplace)\n",
    "\n",
    "def mode_imputation(data, inplace = False):\n",
    "    \"\"\"\n",
    "    This function would take the NULL values present in data and replace them with mode values of the given data respectively.\n",
    "    \"\"\"\n",
    "    data.fillna(data.mode(), inplace = inplace)"
   ]
  },
  {
   "cell_type": "code",
   "execution_count": null,
   "id": "f54f7962",
   "metadata": {},
   "outputs": [],
   "source": []
  }
 ],
 "metadata": {
  "kernelspec": {
   "display_name": "Python 3 (ipykernel)",
   "language": "python",
   "name": "python3"
  },
  "language_info": {
   "codemirror_mode": {
    "name": "ipython",
    "version": 3
   },
   "file_extension": ".py",
   "mimetype": "text/x-python",
   "name": "python",
   "nbconvert_exporter": "python",
   "pygments_lexer": "ipython3",
   "version": "3.10.8"
  }
 },
 "nbformat": 4,
 "nbformat_minor": 5
}
